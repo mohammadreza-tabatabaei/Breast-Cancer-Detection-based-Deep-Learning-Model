{
 "nbformat": 4,
 "nbformat_minor": 0,
 "metadata": {
  "colab": {
   "provenance": [],
   "authorship_tag": "ABX9TyNbOaUv8Dw6M/n4UloB3cIs"
  },
  "kernelspec": {
   "name": "python3",
   "display_name": "Python 3"
  },
  "language_info": {
   "name": "python"
  }
 },
 "cells": [
  {
   "cell_type": "code",
   "metadata": {
    "colab": {
     "base_uri": "https://localhost:8080/"
    },
    "id": "kBfnBqnJCSkb",
    "executionInfo": {
     "status": "ok",
     "timestamp": 1676027658145,
     "user_tz": -210,
     "elapsed": 56264,
     "user": {
      "displayName": "Alireza Tabtab",
      "userId": "13181555033713805853"
     }
    },
    "outputId": "63a64794-87b1-473c-f9f2-f5cdef2ef2f5",
    "jupyter": {
     "is_executing": true
    }
   },
   "source": [
    "from google.colab import drive\n",
    "drive.mount('/content/drive/')"
   ],
   "outputs": [],
   "execution_count": null
  },
  {
   "cell_type": "code",
   "source": [
    "import cv2\n",
    "import numpy as np\n",
    "import glob\n",
    "from skimage import io\n",
    "\n",
    "width=200\n",
    "height=200\n",
    "\n",
    "\n",
    "Data=[]\n",
    "Target=[]\n",
    "\n",
    "# benign cancer\n",
    "file_list = glob.glob(r'/content/drive/My Drive/DataSet/BUSI/benign/*.png')\n",
    "\n",
    "for i in file_list:\n",
    "  im=cv2.imread(i)\n",
    "  im = cv2.cvtColor(im, cv2.COLOR_BGR2GRAY)\n",
    "  im=cv2.resize(im,(width,height))\n",
    "  Data.append(im)\n",
    "  Target.append(0)\n",
    "\n",
    "file_list = glob.glob(r'/content/drive/My Drive/DataSet/BUSI/malignant/*.png')\n",
    "# malignant cancer\n",
    "for i in file_list:\n",
    "  im=cv2.imread(i)\n",
    "  im = cv2.cvtColor(im, cv2.COLOR_BGR2GRAY)\n",
    "  im=cv2.resize(im,(width,height))\n",
    "  Data.append(im)\n",
    "  Target.append(1)\n",
    "\n",
    "file_list = glob.glob(r'/content/drive/My Drive/DataSet/BUSI/normal/*.png')\n",
    "# malignant cancer\n",
    "for i in file_list:\n",
    "  im=cv2.imread(i)\n",
    "  im = cv2.cvtColor(im, cv2.COLOR_BGR2GRAY)\n",
    "  im=cv2.resize(im,(width,height))\n",
    "  Data.append(im)\n",
    "  Target.append(2)\n"
   ],
   "metadata": {
    "id": "1Euf0IAzCiKa",
    "executionInfo": {
     "status": "ok",
     "timestamp": 1676027681906,
     "user_tz": -210,
     "elapsed": 21650,
     "user": {
      "displayName": "Alireza Tabtab",
      "userId": "13181555033713805853"
     }
    }
   },
   "execution_count": 2,
   "outputs": []
  },
  {
   "cell_type": "code",
   "source": [
    "from tensorflow.keras.utils import to_categorical\n",
    "Final_Target = to_categorical(Target)"
   ],
   "metadata": {
    "id": "ZbCnUHYeEtS-",
    "executionInfo": {
     "status": "ok",
     "timestamp": 1676027692388,
     "user_tz": -210,
     "elapsed": 7096,
     "user": {
      "displayName": "Alireza Tabtab",
      "userId": "13181555033713805853"
     }
    }
   },
   "execution_count": 3,
   "outputs": []
  },
  {
   "cell_type": "code",
   "source": [
    "Final_Data=np.reshape(Data,(len(Data),height,width,1))"
   ],
   "metadata": {
    "id": "bCRqj54OE0P5"
   },
   "execution_count": null,
   "outputs": []
  },
  {
   "cell_type": "code",
   "source": [
    "# CNN LSTM\n",
    "from keras import layers\n",
    "from keras.layers import Input\n",
    "from keras.layers import Dense\n",
    "from keras.layers import Flatten\n",
    "from keras.layers import Dropout\n",
    "from keras.layers.convolutional import Conv2D,SeparableConv2D\n",
    "from keras.layers.convolutional import MaxPooling2D\n",
    "from keras.layers import TimeDistributed\n",
    "from keras.layers import LSTM\n",
    "from keras.models import Model\n",
    "\n",
    "myInput=layers.Input(shape=(height,width,1))\n",
    "conv1=SeparableConv2D(64,3, activation='relu',padding='same')(myInput)\n",
    "max1=MaxPooling2D(2)(conv1)\n",
    "Norm1=layers.BatchNormalization()(max1)\n",
    "drop1=layers.Dropout(0.2)(Norm1)\n",
    "conv2=Conv2D(128,3, activation='relu',padding='same')(drop1)\n",
    "max2=MaxPooling2D(2)(conv2)\n",
    "drop2=layers.Dropout(0.2)(max2)\n",
    "Time1=layers.TimeDistributed(Flatten())(drop2)\n",
    "lstm1=LSTM(150)(Time1)\n",
    "des1 =Dense(50, activation='relu')(lstm1)\n",
    "Extract_Model = Model(myInput, des1)\n",
    "out_layer =Dense(3, activation='softmax')(des1)\n",
    "model = Model(myInput, out_layer)\n",
    "model.summary()\n",
    "\n",
    "model.compile(loss='categorical_crossentropy', optimizer='adam', metrics=['accuracy'])\n",
    "\n",
    "verbose, epochs, batch_size = 1, 10, 32\n",
    "model.fit(Final_Data,Final_Target, epochs=epochs, batch_size=batch_size, verbose=verbose)"
   ],
   "metadata": {
    "colab": {
     "base_uri": "https://localhost:8080/"
    },
    "id": "BU4PtYkJE4eq",
    "executionInfo": {
     "status": "ok",
     "timestamp": 1674733845739,
     "user_tz": -210,
     "elapsed": 1295335,
     "user": {
      "displayName": "Alireza Tabtab",
      "userId": "13181555033713805853"
     }
    },
    "outputId": "ad6e9023-b9ff-4d10-f317-47d6628a2520"
   },
   "execution_count": null,
   "outputs": [
    {
     "output_type": "stream",
     "name": "stdout",
     "text": [
      "Model: \"model_5\"\n",
      "_________________________________________________________________\n",
      " Layer (type)                Output Shape              Param #   \n",
      "=================================================================\n",
      " input_4 (InputLayer)        [(None, 200, 200, 1)]     0         \n",
      "                                                                 \n",
      " separable_conv2d_2 (Separab  (None, 200, 200, 64)     137       \n",
      " leConv2D)                                                       \n",
      "                                                                 \n",
      " max_pooling2d_5 (MaxPooling  (None, 100, 100, 64)     0         \n",
      " 2D)                                                             \n",
      "                                                                 \n",
      " batch_normalization_2 (Batc  (None, 100, 100, 64)     256       \n",
      " hNormalization)                                                 \n",
      "                                                                 \n",
      " dropout_1 (Dropout)         (None, 100, 100, 64)      0         \n",
      "                                                                 \n",
      " conv2d_3 (Conv2D)           (None, 100, 100, 128)     73856     \n",
      "                                                                 \n",
      " max_pooling2d_6 (MaxPooling  (None, 50, 50, 128)      0         \n",
      " 2D)                                                             \n",
      "                                                                 \n",
      " dropout_2 (Dropout)         (None, 50, 50, 128)       0         \n",
      "                                                                 \n",
      " time_distributed_2 (TimeDis  (None, 50, 6400)         0         \n",
      " tributed)                                                       \n",
      "                                                                 \n",
      " lstm_2 (LSTM)               (None, 150)               3930600   \n",
      "                                                                 \n",
      " dense_4 (Dense)             (None, 50)                7550      \n",
      "                                                                 \n",
      " dense_5 (Dense)             (None, 3)                 153       \n",
      "                                                                 \n",
      "=================================================================\n",
      "Total params: 4,012,552\n",
      "Trainable params: 4,012,424\n",
      "Non-trainable params: 128\n",
      "_________________________________________________________________\n",
      "Epoch 1/10\n",
      "25/25 [==============================] - 134s 5s/step - loss: 1.0929 - accuracy: 0.5436\n",
      "Epoch 2/10\n",
      "25/25 [==============================] - 128s 5s/step - loss: 0.9655 - accuracy: 0.5603\n",
      "Epoch 3/10\n",
      "25/25 [==============================] - 131s 5s/step - loss: 0.9549 - accuracy: 0.5603\n",
      "Epoch 4/10\n",
      "25/25 [==============================] - 127s 5s/step - loss: 0.9528 - accuracy: 0.5603\n",
      "Epoch 5/10\n",
      "25/25 [==============================] - 131s 5s/step - loss: 0.9495 - accuracy: 0.5603\n",
      "Epoch 6/10\n",
      "25/25 [==============================] - 127s 5s/step - loss: 0.9513 - accuracy: 0.5603\n",
      "Epoch 7/10\n",
      "25/25 [==============================] - 130s 5s/step - loss: 0.9472 - accuracy: 0.5603\n",
      "Epoch 8/10\n",
      "25/25 [==============================] - 126s 5s/step - loss: 0.9456 - accuracy: 0.5603\n",
      "Epoch 9/10\n",
      "25/25 [==============================] - 126s 5s/step - loss: 0.9437 - accuracy: 0.5603\n",
      "Epoch 10/10\n",
      "25/25 [==============================] - 133s 5s/step - loss: 0.9402 - accuracy: 0.5603\n"
     ]
    },
    {
     "output_type": "execute_result",
     "data": {
      "text/plain": [
       "<keras.callbacks.History at 0x7f558369bd60>"
      ]
     },
     "metadata": {},
     "execution_count": 49
    }
   ]
  },
  {
   "cell_type": "code",
   "source": [
    "from sklearn.model_selection import train_test_split\n",
    "X_train, X_test, y_train, y_test = train_test_split(Data, Target, test_size=0.3, random_state=42)"
   ],
   "metadata": {
    "id": "vGwLYh8mE_WL"
   },
   "execution_count": null,
   "outputs": []
  },
  {
   "cell_type": "code",
   "source": [
    "from tensorflow.keras.utils import to_categorical\n",
    "trainy = to_categorical(y_train)\n",
    "testy = to_categorical(y_test)"
   ],
   "metadata": {
    "id": "RBtqZ3O-FEmX"
   },
   "execution_count": null,
   "outputs": []
  },
  {
   "cell_type": "code",
   "source": [
    "trainX=np.reshape(X_train,(len(X_train),height,width,1))\n",
    "testX=np.reshape(X_test,(len(X_test),height,width,1))"
   ],
   "metadata": {
    "id": "0FTl4-hfFJUx"
   },
   "execution_count": null,
   "outputs": []
  },
  {
   "cell_type": "code",
   "source": [
    "trainFeature=(Extract_Model.predict(trainX))\n",
    "testFeature=(Extract_Model.predict(testX))"
   ],
   "metadata": {
    "colab": {
     "base_uri": "https://localhost:8080/"
    },
    "id": "EMe2MsUXFPO-",
    "executionInfo": {
     "status": "ok",
     "timestamp": 1674733915406,
     "user_tz": -210,
     "elapsed": 51898,
     "user": {
      "displayName": "Alireza Tabtab",
      "userId": "13181555033713805853"
     }
    },
    "outputId": "336279cd-1071-4af6-8a02-0cbaf1dcf126"
   },
   "execution_count": null,
   "outputs": [
    {
     "output_type": "stream",
     "name": "stdout",
     "text": [
      "18/18 [==============================] - 22s 1s/step\n",
      "8/8 [==============================] - 9s 1s/step\n"
     ]
    }
   ]
  },
  {
   "cell_type": "code",
   "source": [
    "from sklearn import svm\n",
    "classifier_svm = svm.LinearSVC()\n",
    "classifier_svm.fit(trainFeature, y_train)"
   ],
   "metadata": {
    "colab": {
     "base_uri": "https://localhost:8080/"
    },
    "id": "axiqJo50FSTP",
    "executionInfo": {
     "status": "ok",
     "timestamp": 1674733918685,
     "user_tz": -210,
     "elapsed": 531,
     "user": {
      "displayName": "Alireza Tabtab",
      "userId": "13181555033713805853"
     }
    },
    "outputId": "04a74b29-48cd-4137-941f-5a74d50ab38d"
   },
   "execution_count": null,
   "outputs": [
    {
     "output_type": "execute_result",
     "data": {
      "text/plain": [
       "LinearSVC()"
      ]
     },
     "metadata": {},
     "execution_count": 54
    }
   ]
  },
  {
   "cell_type": "code",
   "source": [
    "from sklearn import tree\n",
    "classifier_tree = tree.DecisionTreeClassifier()\n",
    "classifier_tree.fit(trainFeature, y_train)"
   ],
   "metadata": {
    "colab": {
     "base_uri": "https://localhost:8080/"
    },
    "id": "bUlFI-UgFWVX",
    "executionInfo": {
     "status": "ok",
     "timestamp": 1674733924342,
     "user_tz": -210,
     "elapsed": 462,
     "user": {
      "displayName": "Alireza Tabtab",
      "userId": "13181555033713805853"
     }
    },
    "outputId": "dba13166-70c5-447f-f97a-1d6aaa5bb217"
   },
   "execution_count": null,
   "outputs": [
    {
     "output_type": "execute_result",
     "data": {
      "text/plain": [
       "DecisionTreeClassifier()"
      ]
     },
     "metadata": {},
     "execution_count": 55
    }
   ]
  },
  {
   "cell_type": "code",
   "source": [
    "from sklearn.neighbors import KNeighborsClassifier\n",
    "classifier_Knn = KNeighborsClassifier(n_neighbors=3)\n",
    "classifier_Knn.fit(trainFeature, y_train)"
   ],
   "metadata": {
    "colab": {
     "base_uri": "https://localhost:8080/"
    },
    "id": "NerwTmeIFZgE",
    "executionInfo": {
     "status": "ok",
     "timestamp": 1674733926372,
     "user_tz": -210,
     "elapsed": 17,
     "user": {
      "displayName": "Alireza Tabtab",
      "userId": "13181555033713805853"
     }
    },
    "outputId": "c58072b4-5f72-4f86-aa6f-09f95f32c510"
   },
   "execution_count": null,
   "outputs": [
    {
     "output_type": "execute_result",
     "data": {
      "text/plain": [
       "KNeighborsClassifier(n_neighbors=3)"
      ]
     },
     "metadata": {},
     "execution_count": 56
    }
   ]
  },
  {
   "cell_type": "code",
   "source": [
    "from sklearn.ensemble import  VotingClassifier\n",
    "classifier_Voting = VotingClassifier(estimators=[('SVM', classifier_svm), ('TREE', classifier_tree), ('KNN', classifier_Knn)],weights=[1,1,1])\n",
    "classifier_Voting.fit(trainFeature, y_train)\n",
    "Class_Voting=classifier_Voting.predict(testFeature)"
   ],
   "metadata": {
    "id": "YRUFULczFcxk"
   },
   "execution_count": null,
   "outputs": []
  },
  {
   "cell_type": "code",
   "source": [
    "from sklearn.metrics import classification_report, accuracy_score\n",
    "print(classification_report(y_test,Class_Voting))"
   ],
   "metadata": {
    "colab": {
     "base_uri": "https://localhost:8080/"
    },
    "id": "adeRVspcFgmE",
    "executionInfo": {
     "status": "ok",
     "timestamp": 1674734283289,
     "user_tz": -210,
     "elapsed": 19,
     "user": {
      "displayName": "Alireza Tabtab",
      "userId": "13181555033713805853"
     }
    },
    "outputId": "a5f62132-8060-4295-e01b-abb651a195a6"
   },
   "execution_count": null,
   "outputs": [
    {
     "output_type": "stream",
     "name": "stdout",
     "text": [
      "              precision    recall  f1-score   support\n",
      "\n",
      "           0       0.62      0.84      0.72       138\n",
      "           1       0.44      0.23      0.30        60\n",
      "           2       0.31      0.14      0.19        36\n",
      "\n",
      "    accuracy                           0.58       234\n",
      "   macro avg       0.46      0.40      0.40       234\n",
      "weighted avg       0.53      0.58      0.53       234\n",
      "\n"
     ]
    }
   ]
  },
  {
   "cell_type": "code",
   "source": [
    "print('Accuracy= ' + str(round(accuracy_score(y_test, Class_Voting)*100)))\n"
   ],
   "metadata": {
    "colab": {
     "base_uri": "https://localhost:8080/"
    },
    "id": "qB-lxWfjFk-5",
    "executionInfo": {
     "status": "ok",
     "timestamp": 1674734289034,
     "user_tz": -210,
     "elapsed": 15,
     "user": {
      "displayName": "Alireza Tabtab",
      "userId": "13181555033713805853"
     }
    },
    "outputId": "7baf6ebe-80ed-40ff-e7cb-3af9aa7331ac"
   },
   "execution_count": null,
   "outputs": [
    {
     "output_type": "stream",
     "name": "stdout",
     "text": [
      "Accuracy= 58\n"
     ]
    }
   ]
  }
 ]
}
